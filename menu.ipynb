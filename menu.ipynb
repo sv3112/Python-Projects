{
 "cells": [
  {
   "cell_type": "markdown",
   "id": "525d118a",
   "metadata": {},
   "source": [
    "<div style=\"text-align: center;\">\n",
    "    <h1><span style=\"color: purple\">Bicycle Rental Management System</span></h1></div>"
   ]
  },
  {
   "cell_type": "markdown",
   "id": "7b2a025e",
   "metadata": {},
   "source": [
    "<h3><span style=\"color: navy\">Import Statements</span></h3>"
   ]
  },
  {
   "cell_type": "code",
   "execution_count": 92,
   "id": "fedc11e7",
   "metadata": {},
   "outputs": [],
   "source": [
    "# Import the ipywidgets module to create interactive widgets for user inputs.\n",
    "import ipywidgets as widgets  \n",
    "\n",
    "# Import display and HTML functions from IPython to display HTML content and widgets.\n",
    "from IPython.display import display, HTML  \n",
    "\n",
    "# Import Matplotlib for plotting charts and visualizing data.\n",
    "import matplotlib.pyplot as plt  \n",
    "\n",
    "# Import specific functions from the bikeSearch module.\n",
    "from bikeSearch import create_connection, search_bicycles, show_status_chart  \n",
    "\n",
    "# Import the database module to handle database initialization and setup.\n",
    "import database  \n",
    "\n",
    "# Import the bikeRent module to handle bicycle rental operations.\n",
    "import bikeRent  \n",
    "\n",
    "# Import the bikeReturn module to handle the functionality of returning a bicycle.\n",
    "import bikeReturn  \n",
    "\n",
    "# Import the bikeSelect module for recommending bicycles based on user preferences.\n",
    "import bikeSelect  "
   ]
  },
  {
   "cell_type": "markdown",
   "id": "943afb49",
   "metadata": {},
   "source": [
    "<h3><span style=\"color: navy\">Define a custom CSS style for buttons used in the widget interface.</span></h3>"
   ]
  },
  {
   "cell_type": "code",
   "execution_count": 93,
   "id": "1afe6590",
   "metadata": {},
   "outputs": [
    {
     "data": {
      "text/html": [
       "\n",
       "<style>\n",
       "    /* Apply styles to elements with the class 'widget-button' */\n",
       "    .widget-button {\n",
       "        background: linear-gradient(45deg, #9B59B6, #8E44AD);  /* Gradient background */\n",
       "        color: white;  /* Text color */\n",
       "        font-weight: bold;  /* Bold text */\n",
       "        font-size: 18px;  /* Font size */\n",
       "        border-radius: 12px;  /* Rounded corners */\n",
       "        padding: 5px 5px;  /* Padding for top/bottom and left/right */\n",
       "        text-shadow: 2px 2px 4px rgba(0, 0, 0, 0.2);  /* Shadow effect for text */\n",
       "        box-shadow: 0 4px 8px rgba(0, 0, 0, 0.1);  /* Box shadow for button */\n",
       "        transition: all 0.3s ease;  /* Smooth transition effects */\n",
       "    }\n",
       "    \n",
       "    /* Styles for hover state */\n",
       "    .widget-button:hover {\n",
       "        background: linear-gradient(45deg, #8E44AD, #9B59B6);  /* Reverse gradient on hover */\n",
       "        outline: 3px solid #8E44AD;  /* Add an outline on hover */\n",
       "        box-shadow: 0 6px 12px rgba(0, 0, 0, 0.2);  /* Enhanced shadow on hover */\n",
       "    }\n",
       "</style>\n"
      ],
      "text/plain": [
       "<IPython.core.display.HTML object>"
      ]
     },
     "metadata": {},
     "output_type": "display_data"
    }
   ],
   "source": [
    "button_style = \"\"\"\n",
    "<style>\n",
    "    /* Apply styles to elements with the class 'widget-button' */\n",
    "    .widget-button {\n",
    "        background: linear-gradient(45deg, #9B59B6, #8E44AD);  /* Gradient background */\n",
    "        color: white;  /* Text color */\n",
    "        font-weight: bold;  /* Bold text */\n",
    "        font-size: 18px;  /* Font size */\n",
    "        border-radius: 12px;  /* Rounded corners */\n",
    "        padding: 5px 5px;  /* Padding for top/bottom and left/right */\n",
    "        text-shadow: 2px 2px 4px rgba(0, 0, 0, 0.2);  /* Shadow effect for text */\n",
    "        box-shadow: 0 4px 8px rgba(0, 0, 0, 0.1);  /* Box shadow for button */\n",
    "        transition: all 0.3s ease;  /* Smooth transition effects */\n",
    "    }\n",
    "    \n",
    "    /* Styles for hover state */\n",
    "    .widget-button:hover {\n",
    "        background: linear-gradient(45deg, #8E44AD, #9B59B6);  /* Reverse gradient on hover */\n",
    "        outline: 3px solid #8E44AD;  /* Add an outline on hover */\n",
    "        box-shadow: 0 6px 12px rgba(0, 0, 0, 0.2);  /* Enhanced shadow on hover */\n",
    "    }\n",
    "</style>\n",
    "\"\"\"\n",
    "\n",
    "# Display the custom style using HTML.\n",
    "# This function applies the CSS styling defined above to the notebook interface.\n",
    "display(HTML(button_style))"
   ]
  },
  {
   "cell_type": "markdown",
   "id": "b8d741bb",
   "metadata": {},
   "source": [
    "<h3><span style=\"color: navy\">Import widgets module for creating interactive UI elements.</span></h3>"
   ]
  },
  {
   "cell_type": "code",
   "execution_count": 94,
   "id": "0c1fb2cc",
   "metadata": {},
   "outputs": [],
   "source": [
    "## Define a button for Initializing Database.\n",
    "btnInitDB = widgets.Button(\n",
    "    description=\" Initialize DB\",  # Button label\n",
    "    # button_style='success',  # Uncomment for predefined success style (green button)\n",
    "    icon='database',  # FontAwesome icon representing a database\n",
    "    layout=widgets.Layout(width='160px', height='40px')  # Set button dimensions\n",
    ")\n",
    "btnInitDB.style.font_size = '16px'  # Customize font size\n",
    "btnInitDB.style.button_color = '#0275d8'  # Custom button color (blue)\n",
    "\n",
    "# Define a button for searching bicycles.\n",
    "btnSearch = widgets.Button(\n",
    "    description=\" Search Bicycles\",\n",
    "    button_style='info',  # Predefined info style (blue button)\n",
    "    icon='search',  # FontAwesome search icon\n",
    "    layout=widgets.Layout(width='160px', height='40px')\n",
    ")\n",
    "btnSearch.style.font_size = '16px'\n",
    "\n",
    "# Define a button for renting bicycles.\n",
    "btnRent = widgets.Button(\n",
    "    description=\" Rent Bicycles\",\n",
    "    button_style='primary',  # Predefined primary style (darker blue)\n",
    "    icon='bicycle',  # FontAwesome bicycle icon\n",
    "    layout=widgets.Layout(width='160px', height='40px')\n",
    ")\n",
    "btnRent.style.font_size = '16px'\n",
    "\n",
    "# Define a button for returning bicycles.\n",
    "btnReturn = widgets.Button(\n",
    "    description=\" Return Bicycles\",\n",
    "    button_style='success',  # Predefined success style (green button)\n",
    "    icon='undo',  # FontAwesome undo icon\n",
    "    layout=widgets.Layout(width='160px', height='40px')\n",
    ")\n",
    "btnReturn.style.font_size = '16px'\n",
    "\n",
    "# Define a button for selecting bicycles.\n",
    "btnSelect = widgets.Button(\n",
    "    description=\" Select Bicycles\",\n",
    "    icon='cart-plus',  # FontAwesome shopping cart icon\n",
    "    layout=widgets.Layout(width='160px', height='40px')\n",
    ")\n",
    "btnSelect.style.font_size = '16px'\n",
    "\n",
    "# Additional buttons for specific tasks\n",
    "btnPerformSearch = widgets.Button(\n",
    "    description=\"Search Bicycle\",  # Button label\n",
    "    icon='search',  # FontAwesome search icon\n",
    "    layout=widgets.Layout(width='160px', height='40px')\n",
    ")\n",
    "btnPerformSearch.style.font_size = '16px'\n",
    "\n",
    "btnRentBicycle = widgets.Button(\n",
    "    description=\"Rent Bicycle\",\n",
    "    icon='bicycle',  # FontAwesome bicycle icon\n",
    "    layout=widgets.Layout(width='160px', height='40px')\n",
    ")\n",
    "btnRentBicycle.style.font_size = '16px'\n",
    "\n",
    "btnReturnBicycle = widgets.Button(\n",
    "    description=\"Return Bicycle\",\n",
    "    icon='search',  # Note: The icon is the same as Search, consider changing to 'undo'\n",
    "    layout=widgets.Layout(width='160px', height='40px')\n",
    ")\n",
    "btnReturnBicycle.style.font_size = '16px'\n",
    "\n",
    "btnPerformSelect = widgets.Button(\n",
    "    description=\"Select Bicycle\",\n",
    "    icon='search',  # Consider changing to a more appropriate icon like 'cart-plus'\n",
    "    layout=widgets.Layout(width='160px', height='40px')\n",
    ")\n",
    "btnPerformSelect.style.font_size = '16px'\n",
    "\n",
    "# Output widget for displaying dynamic content.\n",
    "output = widgets.Output()  # Used to display outputs like logs, messages, or errors."
   ]
  },
  {
   "cell_type": "code",
   "execution_count": 95,
   "id": "b730197b",
   "metadata": {},
   "outputs": [],
   "source": [
    "# Establish a connection to the database\n",
    "conn = create_connection()"
   ]
  },
  {
   "cell_type": "markdown",
   "id": "fb243fd9",
   "metadata": {},
   "source": [
    "<h3><span style=\"color: navy\">Initializes the database by calling the setup function from the database module</span></h3>"
   ]
  },
  {
   "cell_type": "code",
   "execution_count": 96,
   "id": "d1af999b",
   "metadata": {},
   "outputs": [],
   "source": [
    "def initialize_database(b):\n",
    "    \"\"\"\n",
    "    Initializes the database by calling the setup function from the database module.\n",
    "    \n",
    "    This function is triggered when the 'Initialize DB' button is clicked. It sets up \n",
    "    the necessary database schema and ensures that the system is ready to store and retrieve \n",
    "    bike rental information.\n",
    "    \n",
    "    Args:\n",
    "        b: The button widget that triggered this function. \n",
    "           This argument is automatically passed by the button's on_click event handler.\n",
    "    \n",
    "    Returns:\n",
    "        None\n",
    "    \"\"\"\n",
    "    try:\n",
    "        # Call the setup function from the database module to initialize the database schema.\n",
    "        database.setup_database()  \n",
    "        \n",
    "        # Notify the user that the database has been successfully initialized.\n",
    "        print(\"Database initialized successfully.\")\n",
    "    except Exception as e:\n",
    "        # Print an error message if an exception occurs during database initialization.\n",
    "        print(f\"Error initializing database: {e}\")"
   ]
  },
  {
   "cell_type": "code",
   "execution_count": 97,
   "id": "e4121bc2",
   "metadata": {},
   "outputs": [],
   "source": [
    "# Initialize search widgets:\n",
    "# Dropdown widget for selecting the search type (e.g., brand, type, frame_size)\n",
    "search_type_widget = widgets.Dropdown(\n",
    "    options=['brand', 'type', 'frame_size'],  # Search categories\n",
    "    description='Search Type:',  # Label for the dropdown\n",
    "    value='brand'  # Default value\n",
    ")\n",
    "\n",
    "# Text widget for entering the search term\n",
    "search_term_widget = widgets.Text(\n",
    "    description='Search Term:',  # Label for the text input\n",
    "    placeholder='Enter your search term'  # Placeholder text to guide the user\n",
    ")"
   ]
  },
  {
   "cell_type": "markdown",
   "id": "f6d47b37",
   "metadata": {},
   "source": [
    "<h3><span style=\"color: navy\">Displays the widgets for searching bicycles by search type and term</span></h3>"
   ]
  },
  {
   "cell_type": "code",
   "execution_count": 98,
   "id": "231a487e",
   "metadata": {},
   "outputs": [],
   "source": [
    "def on_search_button_clicked(b):\n",
    "    \"\"\"\n",
    "    Displays the widgets for searching bicycles (search type and search term).\n",
    "    \n",
    "    This function is triggered when the 'Search Bicycles' button is clicked. It shows \n",
    "    a dropdown widget for selecting the search type (e.g., brand, type, frame_size) \n",
    "    and a text field for entering the search term.\n",
    "    \n",
    "    Args:\n",
    "        b: The button widget that triggered this function.\n",
    "    \n",
    "    Returns:\n",
    "        None\n",
    "    \"\"\"\n",
    "    # Print a visual separator and title to indicate the start of the search process.\n",
    "    print(\"\\n\" + \"-\" * 115)  # Separator line for console output\n",
    "\n",
    "    # Define purple text formatting for the title and reset to default after the title.\n",
    "    purple = \"\\033[1;38;5;54m\"\n",
    "    reset = \"\\033[0m\"  # ANSI escape code to reset color formatting\n",
    "    print(f\"{purple}{'Bicycle Search Process':^100}{reset}\")  # Centered title with color\n",
    "    print(\"-\" * 115)  # Another separator line\n",
    "\n",
    "    # Inform the user about the next steps.\n",
    "    print(\"You can now search for bicycles.\")\n",
    "    \n",
    "    # Display the search widgets (dropdown and text field) along with the search button.\n",
    "    display(search_type_widget, search_term_widget, btnPerformSearch)"
   ]
  },
  {
   "cell_type": "markdown",
   "id": "5b6a1cc1",
   "metadata": {},
   "source": [
    "<h3><span style=\"color: navy\">Displays the Search Results based on the user input </span></h3>"
   ]
  },
  {
   "cell_type": "code",
   "execution_count": 99,
   "id": "612b76b6",
   "metadata": {},
   "outputs": [],
   "source": [
    "def perform_search(b):\n",
    "    \"\"\"\n",
    "    Performs a search based on user input for search type and term.\n",
    "    \n",
    "    This function is triggered when the 'Search' button is clicked. It retrieves \n",
    "    the search criteria from the user and fetches relevant bicycle data from the \n",
    "    database using the `search_bicycles` function.\n",
    "    \n",
    "    Args:\n",
    "        b: The button widget that triggered this function.\n",
    "    \n",
    "    Returns:\n",
    "        None\n",
    "    \"\"\"\n",
    "    search_terms = {}  # Dictionary to store the search criteria (type and term).\n",
    "    search_type = search_type_widget.value  # Get selected search type from dropdown.\n",
    "    search_term = search_term_widget.value.strip()  # Get search term from text widget and trim whitespace.\n",
    "    if search_term:  # Check if search term is not empty.\n",
    "        search_terms[search_type] = search_term  # Add search type and term to the dictionary.\n",
    "        print(f\"Searching for {search_type.capitalize()}: {search_term}\")  # Display search type and term.\n",
    "        print(\"-\" * 115)  # Separator line for readability.\n",
    "    else:  # If search term is empty.\n",
    "        print(\"Please enter a search term.\")  # Prompt the user to enter a valid search term.\n",
    "        return  # Exit the function if no valid input is provided.\n",
    "    if search_terms:  # Check if there are valid search criteria.\n",
    "        results = search_bicycles(conn, search_terms)  # Fetch search results from the database.\n",
    "        if results:  # Check if any results were found.\n",
    "            print(f\"Total number of results found: {len(results)}\")  # Display total number of results.\n",
    "            print(f\"Results for your search criteria: {', '.join([f'{k.capitalize()}: {v.capitalize()}' for k, v in search_terms.items()])}\")  # Display formatted search criteria.\n",
    "            print(\"\\nListing Bicycle Details:\\n\")  # Inform user about the upcoming result details.\n",
    "            print(f\"{'ID':<5} {'Brand':<15} {'Type':<20} {'Frame Size':<12} {'Rental Rate':<12} {'Condition':<15} {'Status':<15}\")  # Header for the result table.\n",
    "            print(\"-\" * 115)  # Separator line for the table.\n",
    "            status_count = {'Available': 0, 'Rented': 0, 'Under maintenance': 0}  # Initialize status count dictionary.\n",
    "            for row in results:  # Loop through each result row.\n",
    "                ID, Brand, Type, Frame_Size, Rental_Rate, Purchase_Date, Condition, Status = row  # Unpack row details.\n",
    "                print(f\"{ID:<5} {Brand:<15} {Type:<20} {Frame_Size:<12} {Rental_Rate:<12} {Condition:<15} {Status:<15}\")  # Print row details in tabular format.\n",
    "                if Status in status_count:  # Check if status exists in status count dictionary.\n",
    "                    status_count[Status] += 1  # Increment the count for the respective status.\n",
    "            show_status_chart(status_count, \"Bicycle Status Overview\")  # Display a chart summarizing bicycle statuses.\n",
    "    else:  # Fallback if no search criteria are provided.\n",
    "        print(\"No search criteria provided.\")  # Inform the user."
   ]
  },
  {
   "cell_type": "code",
   "execution_count": 100,
   "id": "82463fbf",
   "metadata": {},
   "outputs": [],
   "source": [
    "# Create a text widget for entering the Member ID. This will be used to identify the member renting the bicycle.\n",
    "member_id_widget = widgets.Text(\n",
    "    description='Member ID:',  # Label displayed next to the input field.\n",
    "    placeholder='Enter your Member ID'  # Placeholder text to guide the user.\n",
    ")\n",
    "\n",
    "# Create a text widget for entering the Bicycle ID. This identifies the specific bicycle to be rented.\n",
    "bicycle_id_widget = widgets.Text(\n",
    "    description='Bicycle ID:',  # Label displayed next to the input field.\n",
    "    placeholder='Enter Bicycle ID'  # Placeholder text to guide the user.\n",
    ")\n",
    "\n",
    "# Create an integer widget for specifying the number of rental days.\n",
    "rental_days_widget = widgets.IntText(\n",
    "    description=\"Rental Days:\",  # Label displayed next to the input field.\n",
    "    value=1,  # Default rental period set to 1 day.\n",
    "    min=1  # Minimum allowed rental period to ensure valid input.\n",
    ")"
   ]
  },
  {
   "cell_type": "markdown",
   "id": "b02082da",
   "metadata": {},
   "source": [
    " <h3><span style=\"color: navy\">Displays the input fields and button for renting a bicycle</span></h3>"
   ]
  },
  {
   "cell_type": "code",
   "execution_count": 101,
   "id": "5a4c0b63",
   "metadata": {},
   "outputs": [],
   "source": [
    "def on_rent_button_display(b):\n",
    "    \"\"\"\n",
    "    Displays the widgets for renting a bicycle, including Member ID and Bicycle ID input fields.\n",
    "    \n",
    "    This function is triggered when the 'Rent Bicycles' button is clicked. It shows \n",
    "    the input fields for Member ID and Bicycle ID along with the Rent Bicycle button.\n",
    "    \n",
    "    Args:\n",
    "        b: The button widget that triggered this function.\n",
    "    \n",
    "    Returns:\n",
    "        None\n",
    "    \"\"\"\n",
    "    print(\"\\n\" + \"-\" * 115)  # Print a separator line for better console readability.\n",
    "    purple = \"\\033[1;38;5;54m\"  # ANSI escape code for purple text.\n",
    "    reset = \"\\033[0m\"  # ANSI escape code to reset text color to default.\n",
    "    print(f\"{purple}{'Bicycle Rental Process':^100}{reset}\")  # Print a centered title with color.\n",
    "    print(\"-\" * 115)  # Print another separator line.\n",
    "    \n",
    "    # Display widgets for Member ID, Bicycle ID, rental days input, and the Rent Bicycle button.\n",
    "    display(member_id_widget, bicycle_id_widget, rental_days_widget, btnRentBicycle)"
   ]
  },
  {
   "cell_type": "markdown",
   "id": "622fc060",
   "metadata": {},
   "source": [
    " <h3><span style=\"color: navy\">Handles the rental process by validating the member and bicycle IDs and proceeding with the rental</span></h3>"
   ]
  },
  {
   "cell_type": "code",
   "execution_count": 102,
   "id": "1709393b",
   "metadata": {},
   "outputs": [],
   "source": [
    "def on_rent_button_clicked(b):\n",
    "    \"\"\"\n",
    "    Handles the bicycle rental process by validating inputs and attempting to rent a bicycle.\n",
    "    \n",
    "    Args:\n",
    "        b: Button click event object.\n",
    "    \"\"\"\n",
    "    # Retrieve inputs from the respective widgets\n",
    "    member_id = member_id_widget.value.strip()  # Get and trim Member ID.\n",
    "    bicycle_id = bicycle_id_widget.value.strip()  # Get and trim Bicycle ID.\n",
    "    rental_days = rental_days_widget.value  # Get rental days value.\n",
    "\n",
    "    # Validate rental days input, ensuring it is a positive integer.\n",
    "    if not isinstance(rental_days, int) or rental_days <= 0:\n",
    "        print(\"Error: Rental duration must be at least 1 day.\")  # Show error if rental days are invalid.\n",
    "        return  # Exit the function if the input is invalid.\n",
    "\n",
    "    # Validate that Member ID is provided.\n",
    "    if not member_id:\n",
    "        print(\"Error: Member ID is required.\")  # Show error if Member ID is missing.\n",
    "        return  # Exit the function if Member ID is missing.\n",
    "\n",
    "    # Validate that Bicycle ID is provided.\n",
    "    if not bicycle_id:\n",
    "        print(\"Error: Bicycle ID is required.\")  # Show error if Bicycle ID is missing.\n",
    "        return  # Exit the function if Bicycle ID is missing.\n",
    "\n",
    "    try:\n",
    "        # Establish a database connection using the `create_connection` function from the bikeRent module.\n",
    "        with bikeRent.create_connection() as connection:  # Using `with` ensures the connection is properly closed.\n",
    "            cursor = connection.cursor()  # Create a cursor object to interact with the database.\n",
    "\n",
    "            # Attempt to rent the bicycle by calling the rent_bicycle function with Member ID, Bicycle ID, and rental days.\n",
    "            rental_status = bikeRent.rent_bicycle(member_id, bicycle_id, rental_days)  # Call rent_bicycle function.\n",
    "\n",
    "            # Check if the rental process was successful and display an appropriate message.\n",
    "            if rental_status:\n",
    "                print(rental_status)  # If a status message is returned, print it.\n",
    "            else:\n",
    "                print(\"Rental attempt completed, but no response message provided.\")  # If no status message is returned.\n",
    "    except sqlite3.OperationalError as oe:  # Handle database-related errors.\n",
    "        print(f\"Database error: {oe}\")  # Display the specific database error message.\n",
    "    except Exception as e:  # Handle any other unexpected errors.\n",
    "        print(f\"An unexpected error occurred: {e}\")  # Display a generic error message."
   ]
  },
  {
   "cell_type": "code",
   "execution_count": 103,
   "id": "199077f0",
   "metadata": {},
   "outputs": [],
   "source": [
    "# Create an integer input widget for Bicycle ID. This allows the user to specify the bicycle they want to return.\n",
    "bicycle_return_id_widget = widgets.IntText(\n",
    "    description='Bicycle ID:',  # Label for the input field.\n",
    "    placeholder='Enter Bicycle ID to return'  # Placeholder text to guide the user.\n",
    ")\n",
    "\n",
    "# Create a dropdown widget for confirming whether the bicycle is damaged.\n",
    "# Options are 'No' and 'Yes', with 'No' being the default.\n",
    "damage_confirmation_widget = widgets.Dropdown(\n",
    "    options=['No', 'Yes'],  # Dropdown options for damage confirmation.\n",
    "    description='Damaged:',  # Label for the dropdown.\n",
    "    value='No'  # Default value is 'No', indicating no damage.\n",
    ")\n",
    "\n",
    "# Create a label widget for displaying the text \"Damage\\nCharge:\" as a heading for the charge input field.\n",
    "damage_label = widgets.Label(value=\"Damage\\nCharge:\")  # Use line break for better presentation.\n",
    "\n",
    "# Create a float input widget for entering the damage charge. \n",
    "# This widget allows the user to specify a monetary amount for any damage to the returned bicycle.\n",
    "damage_charge_widget = widgets.FloatText(\n",
    "    placeholder='Enter damage charge',  # Placeholder text to guide the user.\n",
    "    value=0.0,  # Default value is set to 0.0, meaning no charge by default.\n",
    "    layout=widgets.Layout(width='200px')  # Adjust the width of the input field for better presentation.\n",
    ")"
   ]
  },
  {
   "cell_type": "markdown",
   "id": "a80f195a",
   "metadata": {},
   "source": [
    "<h3><span style=\"color: navy\">Displays the input fields and button for returning a bicycle, including damage confirmation</span></h3> "
   ]
  },
  {
   "cell_type": "code",
   "execution_count": 104,
   "id": "f0ee7c69",
   "metadata": {},
   "outputs": [],
   "source": [
    "def on_return_button_display(b):\n",
    "    \"\"\"\n",
    "    Displays the widgets for returning a bicycle, including Bicycle ID, Damage Confirmation, \n",
    "    and Damage Charge fields.\n",
    "    \n",
    "    This function is triggered when the 'Return Bicycles' button is clicked. It displays \n",
    "    the input fields necessary to process a bicycle return.\n",
    "    \n",
    "    Args:\n",
    "        b: The button widget that triggered this function.\n",
    "    \n",
    "    Returns:\n",
    "        None\n",
    "    \"\"\"\n",
    "    print(\"\\n\" + \"-\" * 115)\n",
    "    purple = \"\\033[1;38;5;54m\"\n",
    "    reset = \"\\033[0m\"  # Reset to default color\n",
    "    print(f\"{purple}{'Bicycle Return Process':^100}{reset}\")\n",
    "    print(\"-\" * 115)\n",
    "\n",
    "    # Display member and bicycle input fields along with Rent Bicycle button\n",
    "    damage_box = widgets.HBox([damage_label, damage_charge_widget])\n",
    "    display(bicycle_return_id_widget, damage_confirmation_widget, damage_box, btnReturnBicycle, output)"
   ]
  },
  {
   "cell_type": "markdown",
   "id": "ab982d30",
   "metadata": {},
   "source": [
    "<h3><span style=\"color: navy\">Handles the bicycle return process, including damage charge if applicable</span></h3>"
   ]
  },
  {
   "cell_type": "code",
   "execution_count": 105,
   "id": "da5d4aa9",
   "metadata": {},
   "outputs": [],
   "source": [
    "def on_return_button_clicked(b):\n",
    "    \"\"\"\n",
    "    Handles the bicycle return process, including any damage charges if applicable.\n",
    "    \"\"\"\n",
    "    # Get the bicycle ID entered by the user from the bicycle return widget\n",
    "    bicycle_id = bicycle_return_id_widget.value  # Retrieve Bicycle ID entered by the user.\n",
    "    \n",
    "    # Determine if a damage charge is applicable based on the user's input (whether 'Yes' or 'No' is selected)\n",
    "    # If 'Yes' is selected, apply the damage charge; otherwise, set it to 0.0\n",
    "    damage_charge = damage_charge_widget.value if damage_confirmation_widget.value == 'Yes' else 0.0\n",
    "\n",
    "    try:\n",
    "        # Call the return_bicycle function from the bikeReturn module and capture the result.\n",
    "        result_message = bikeReturn.return_bicycle(bicycle_id, damage_charge)  # Pass Bicycle ID and Damage Charge.\n",
    "\n",
    "        # Display the result message in the output widget (this will print to the console in the current setup).\n",
    "        print(result_message)  # Display the result returned by the return_bicycle function.\n",
    "\n",
    "    except Exception as e:\n",
    "        # Catch any unexpected errors that occur during the return process.\n",
    "        print(f\"An error occurred during the bicycle return process: {e}\")  # Display an error message if an exception occurs."
   ]
  },
  {
   "cell_type": "code",
   "execution_count": 106,
   "id": "b70ba213",
   "metadata": {},
   "outputs": [],
   "source": [
    "# Create a label widget to display \"Available Budget\".\n",
    "budget_label = widgets.Label(\n",
    "    value='Available Budget:',\n",
    "    layout=widgets.Layout(width='auto')  # Auto width for the label\n",
    ")\n",
    "\n",
    "# Create a FloatText widget for the user to input their available budget.\n",
    "budget_widget = widgets.FloatText(\n",
    "    placeholder='Enter your budget',\n",
    "    layout=widgets.Layout(width='150px')  # Set width for the input field\n",
    ")"
   ]
  },
  {
   "cell_type": "markdown",
   "id": "560ded0e",
   "metadata": {},
   "source": [
    " <h3><span style=\"color: navy\">Calculates and displays recommended bicycle purchase order based on the user's budget</span></h3>"
   ]
  },
  {
   "cell_type": "code",
   "execution_count": 107,
   "id": "10d7eead",
   "metadata": {},
   "outputs": [],
   "source": [
    "def perform_selection(b):\n",
    "    \"\"\"\n",
    "    Handles the bicycle selection process, calculating recommendations based on the available budget.\n",
    "\n",
    "    This function is triggered when the user selects the \"Select Bicycles\" button after entering their budget. \n",
    "    It retrieves the available bicycle data, calculates scores for each bicycle based on its suitability, \n",
    "    and then generates a purchase order based on the user's available budget. The function outputs the recommended \n",
    "    bicycles along with their costs and quantities.\n",
    "\n",
    "    Args:\n",
    "        b: The button widget that triggered this function. It is not used directly within the function.\n",
    "\n",
    "    Returns:\n",
    "        None: This function does not return any value; it prints the recommended bicycles and their details to the console.\n",
    "    \"\"\"\n",
    "    # Retrieve the available budget entered by the user.\n",
    "    budget = budget_widget.value\n",
    "\n",
    "    # Validate the budget input.\n",
    "    if budget <= 0:\n",
    "        print(\"Please enter a valid budget.\")\n",
    "        return\n",
    "    \n",
    "    # Retrieve bicycle data for scoring: available and rented bicycles.\n",
    "    bicycles, rented_bicycles = bikeSelect.get_bicycle_data()\n",
    "    \n",
    "    # Calculate scores for each bicycle based on suitability for the budget.\n",
    "    recommendations = bikeSelect.calculate_scores(bicycles, rented_bicycles)\n",
    "    \n",
    "    # Generate the purchase order and total cost based on recommendations.\n",
    "    purchase_order, total_cost = bikeSelect.generate_purchase_order(recommendations, budget)\n",
    "    \n",
    "    # Display the purchase order and total cost in a structured format.\n",
    "    print(\"\\nHere is the Recommended Purchase Order:\")\n",
    "    print(f\"\\n{'Brand':<20} {'Type':<20} {'Quantity':<10} {'Cost':<10}\")\n",
    "    print(\"-\" * 60)\n",
    "    \n",
    "    total_quantity = 0  # Initialize the total quantity of bicycles in the order.\n",
    "\n",
    "    # Loop through each recommended bicycle and display its details.\n",
    "    for bike_id, details in purchase_order.items():\n",
    "        quantity = int(details['Quantity'])\n",
    "        cost = f\"£{details['Cost']:.1f}\" \n",
    "        print(f\"{details['Brand']:<20} {details['Type']:<20} {quantity:<10} {cost:<10}\")\n",
    "        total_quantity += quantity  # Update total quantity\n",
    "    \n",
    "    # Print the total quantity and total cost of the recommended bicycles.\n",
    "    print(\"-\" * 60)\n",
    "    print(f\"{'Total Quantity:':<41} {total_quantity}\")\n",
    "    print(f\"{'Total Cost:':<52} {total_cost:.1f}\")"
   ]
  },
  {
   "cell_type": "markdown",
   "id": "55b1dc59",
   "metadata": {},
   "source": [
    "<h3><span style=\"color: navy\">Displays the widgets for bicycle selection, including budget input, and triggers the selection process</span></h3>"
   ]
  },
  {
   "cell_type": "code",
   "execution_count": 108,
   "id": "cf3fc7ba",
   "metadata": {},
   "outputs": [],
   "source": [
    "def on_select_button_clicked(b):\n",
    "    \"\"\"\n",
    "    Displays the widgets for bicycle selection, including input for available budget.\n",
    "\n",
    "    This function is triggered when the user clicks the \"Select Bicycles\" button. It sets up the input fields \n",
    "    for entering the available budget and allows the user to click another button to trigger the bicycle selection \n",
    "    process. The function prepares the layout for the user to enter their budget and display selection options.\n",
    "\n",
    "    Args:\n",
    "        b: The button widget that triggered this function. This parameter is required by the callback function signature.\n",
    "\n",
    "    Returns:\n",
    "        None: This function does not return any value; it only sets up the UI and triggers the selection process.\n",
    "    \"\"\"\n",
    "    global selection_widgets_created, budget_widget\n",
    "    print(\"\\n\" + \"-\" * 115)\n",
    "    purple = \"\\033[1;38;5;54m\"\n",
    "    reset = \"\\033[0m\"  # Reset to default color\n",
    "\n",
    "    # Print the header for the bicycle selection process.\n",
    "    print(f\"{purple}{'Bicycle Select Process':^100}{reset}\")\n",
    "    print(\"-\" * 115)\n",
    "\n",
    "    # Create a horizontal layout (HBox) for the budget label and input field.\n",
    "    budget_box = widgets.HBox([budget_label, budget_widget], layout=widgets.Layout(margin='0 5px 0 0'))  # Adjust spacing\n",
    "\n",
    "    # Display the budget box and the selection button.\n",
    "    display(budget_box, btnPerformSelect)  "
   ]
  },
  {
   "cell_type": "markdown",
   "id": "94b6359d",
   "metadata": {},
   "source": [
    "<h3><span style=\"color: navy\">Interaction</span></h3>"
   ]
  },
  {
   "cell_type": "code",
   "execution_count": 109,
   "id": "62045b88",
   "metadata": {
    "scrolled": false
   },
   "outputs": [
    {
     "name": "stdout",
     "output_type": "stream",
     "text": [
      "\n",
      "-------------------------------------------------------------------------------------------------------------------\n",
      "\u001b[1;38;5;54m                                  Bicycle Rental Management System                                  \u001b[0m\n",
      "-------------------------------------------------------------------------------------------------------------------\n"
     ]
    },
    {
     "data": {
      "application/vnd.jupyter.widget-view+json": {
       "model_id": "534d0ee04c6949d0ad91e7b0d3f25614",
       "version_major": 2,
       "version_minor": 0
      },
      "text/plain": [
       "VBox(children=(HBox(children=(Button(description=' Initialize DB', icon='database', layout=Layout(height='40px…"
      ]
     },
     "metadata": {},
     "output_type": "display_data"
    },
    {
     "name": "stdout",
     "output_type": "stream",
     "text": [
      "Bicycle_Condition table created\n",
      "Bicycle_Info_Data table created\n",
      "Member table created\n",
      "Bicycle_Rental_Data table created\n",
      "Database initialized successfully.\n",
      "\n",
      "-------------------------------------------------------------------------------------------------------------------\n",
      "\u001b[1;38;5;54m                                       Bicycle Rental Process                                       \u001b[0m\n",
      "-------------------------------------------------------------------------------------------------------------------\n"
     ]
    },
    {
     "data": {
      "application/vnd.jupyter.widget-view+json": {
       "model_id": "fe0a66f2c90d49a68020f01d2e955c2d",
       "version_major": 2,
       "version_minor": 0
      },
      "text/plain": [
       "Text(value='', description='Member ID:', placeholder='Enter your Member ID')"
      ]
     },
     "metadata": {},
     "output_type": "display_data"
    },
    {
     "data": {
      "application/vnd.jupyter.widget-view+json": {
       "model_id": "8a94a449b0594593b23ce508b6bf3e17",
       "version_major": 2,
       "version_minor": 0
      },
      "text/plain": [
       "Text(value='', description='Bicycle ID:', placeholder='Enter Bicycle ID')"
      ]
     },
     "metadata": {},
     "output_type": "display_data"
    },
    {
     "data": {
      "application/vnd.jupyter.widget-view+json": {
       "model_id": "dfbc6c0fde6243168db50467bf159fd3",
       "version_major": 2,
       "version_minor": 0
      },
      "text/plain": [
       "IntText(value=1, description='Rental Days:')"
      ]
     },
     "metadata": {},
     "output_type": "display_data"
    },
    {
     "data": {
      "application/vnd.jupyter.widget-view+json": {
       "model_id": "6b003e77962b42b09daecd6b061ff2cb",
       "version_major": 2,
       "version_minor": 0
      },
      "text/plain": [
       "Button(description='Rent Bicycle', icon='bicycle', layout=Layout(height='40px', width='160px'), style=ButtonSt…"
      ]
     },
     "metadata": {},
     "output_type": "display_data"
    },
    {
     "name": "stdout",
     "output_type": "stream",
     "text": [
      "Rental Confirmation:\n",
      "-------------------------------------------------------------------------------------------------------------------\n",
      "Bicycle Details:\n",
      "Bicycle ID: 1\n",
      "Brand: Vanmoof\n",
      "Type: Mountain Bike\n",
      "-------------------------------------------------------------------------------------------------------------------\n",
      "Rental Information:\n",
      "Rental Rate: £36/day\n",
      "Start Date: 2024-11-10\n",
      "Expected Return Date: 2024-11-11\n",
      "\n",
      "Rental details updated successfully.\n",
      "\n",
      "-------------------------------------------------------------------------------------------------------------------\n",
      "\u001b[1;38;5;54m                                       Bicycle Return Process                                       \u001b[0m\n",
      "-------------------------------------------------------------------------------------------------------------------\n"
     ]
    },
    {
     "data": {
      "application/vnd.jupyter.widget-view+json": {
       "model_id": "3cd99d7703c54d59a84e1b6f9088d736",
       "version_major": 2,
       "version_minor": 0
      },
      "text/plain": [
       "IntText(value=0, description='Bicycle ID:')"
      ]
     },
     "metadata": {},
     "output_type": "display_data"
    },
    {
     "data": {
      "application/vnd.jupyter.widget-view+json": {
       "model_id": "d9d2f28a1e084c7da36a7483e8e9bf27",
       "version_major": 2,
       "version_minor": 0
      },
      "text/plain": [
       "Dropdown(description='Damaged:', options=('No', 'Yes'), value='No')"
      ]
     },
     "metadata": {},
     "output_type": "display_data"
    },
    {
     "data": {
      "application/vnd.jupyter.widget-view+json": {
       "model_id": "8f03b6db1d4f4ac19976f817c24d724a",
       "version_major": 2,
       "version_minor": 0
      },
      "text/plain": [
       "HBox(children=(Label(value='Damage\\nCharge:'), FloatText(value=0.0, layout=Layout(width='200px'))))"
      ]
     },
     "metadata": {},
     "output_type": "display_data"
    },
    {
     "data": {
      "application/vnd.jupyter.widget-view+json": {
       "model_id": "3ea9b0df44354db69f37cd9ed1445c80",
       "version_major": 2,
       "version_minor": 0
      },
      "text/plain": [
       "Button(description='Return Bicycle', icon='search', layout=Layout(height='40px', width='160px'), style=ButtonS…"
      ]
     },
     "metadata": {},
     "output_type": "display_data"
    },
    {
     "data": {
      "application/vnd.jupyter.widget-view+json": {
       "model_id": "609aa61c04b242b986e9e34a4a76b7d9",
       "version_major": 2,
       "version_minor": 0
      },
      "text/plain": [
       "Output()"
      ]
     },
     "metadata": {},
     "output_type": "display_data"
    },
    {
     "name": "stdout",
     "output_type": "stream",
     "text": [
      "-------------------------------------------------------------------------------------------------------------------\n",
      "Return Process Completed for Bicycle ID: 1\n",
      "-------------------------------------------------------------------------------------------------------------------\n",
      "Current Rental Rate: £36.00\n",
      "Rental Period: Rented on 2024-11-10: Returned on 2024-11-10\n",
      "Expected Return Date: 2024-11-11\n",
      "-------------------------------------------------------------------------------------------------------------------\n",
      "Returned on time. No late fee incurred.\n",
      "\n",
      "The bicycle has been successfully marked as 'Available'.\n",
      "-------------------------------------------------------------------------------------------------------------------\n",
      "Total Amount Due: £0.0 (Late Fee) + £0.00 (Damage Charge) = £0.0\n",
      "-------------------------------------------------------------------------------------------------------------------\n",
      "\n",
      "\n",
      "-------------------------------------------------------------------------------------------------------------------\n",
      "\u001b[1;38;5;54m                                       Bicycle Select Process                                       \u001b[0m\n",
      "-------------------------------------------------------------------------------------------------------------------\n"
     ]
    },
    {
     "data": {
      "application/vnd.jupyter.widget-view+json": {
       "model_id": "0fc3b402e4084fd3b9148be979614df6",
       "version_major": 2,
       "version_minor": 0
      },
      "text/plain": [
       "HBox(children=(Label(value='Available Budget:', layout=Layout(width='auto')), FloatText(value=0.0, layout=Layo…"
      ]
     },
     "metadata": {},
     "output_type": "display_data"
    },
    {
     "data": {
      "application/vnd.jupyter.widget-view+json": {
       "model_id": "62747477d639423f9139493c307a52d5",
       "version_major": 2,
       "version_minor": 0
      },
      "text/plain": [
       "Button(description='Select Bicycle', icon='search', layout=Layout(height='40px', width='160px'), style=ButtonS…"
      ]
     },
     "metadata": {},
     "output_type": "display_data"
    },
    {
     "name": "stdout",
     "output_type": "stream",
     "text": [
      "\n",
      "Here is the Recommended Purchase Order:\n",
      "\n",
      "Brand                Type                 Quantity   Cost      \n",
      "------------------------------------------------------------\n",
      "Ribble               Single Gear Bike     2          £76.0     \n",
      "Giant                Mountain Bike        1          £15.0     \n",
      "------------------------------------------------------------\n",
      "Total Quantity:                           3\n",
      "Total Cost:                                          91.0\n"
     ]
    }
   ],
   "source": [
    "# Print a separator line of hyphens to visually separate sections in the terminal output.\n",
    "print(\"\\n\" + \"-\" * 115)\n",
    "\n",
    "# Define the ANSI escape code for purple color. This will be used to change the text color in the terminal.\n",
    "purple = \"\\033[1;38;5;54m\"  # ANSI escape code for purple color\n",
    "\n",
    "# Define the ANSI escape code to reset the text color to the default after colored text is printed.\n",
    "reset = \"\\033[0m\"  # ANSI escape code to reset to default terminal color\n",
    "\n",
    "# Print the title 'Bicycle Rental Management System' in purple, centered within a width of 100 characters.\n",
    "# After the title is printed, the reset code is applied to revert to the default text color.\n",
    "print(f\"{purple}{'Bicycle Rental Management System':^100}{reset}\")  # Centered title in purple\n",
    "\n",
    "# Print another separator line of hyphens to close the header section and separate it from the rest of the output.\n",
    "print(\"-\" * 115)\n",
    "\n",
    "# Initialize the buttons and link them to respective functions\n",
    "btnInitDB.on_click(initialize_database) \n",
    "btnSearch.on_click(on_search_button_clicked)  # When \"Search Bicycles\" is clicked, show search options\n",
    "btnPerformSearch.on_click(perform_search) # When \"Search Bicycles\" is clicked, show the search results\n",
    "\n",
    "btnRent.on_click(on_rent_button_display)  # When \"Rent Bicycles\" is clicked, show rent options\n",
    "btnRentBicycle.on_click(on_rent_button_clicked)  # When \"Rent Bicycle\" is clicked, handle the rental process\n",
    "btnReturn.on_click(on_return_button_display)  # When \"Return Bicycles\" is clicked, show return options\n",
    "btnReturnBicycle.on_click(on_return_button_clicked)  # When \"Return Bicycle\" is clicked, handle the return process\n",
    "btnSelect.on_click(on_select_button_clicked)  # When \"Select Bicycles\" is clicked, show selection options\n",
    "btnPerformSelect.on_click(perform_selection) # When \"Select Bicycles\" is clicked, show the recommdations list\n",
    "# Create a horizontal layout to hold the buttons\n",
    "button_box = widgets.HBox([btnInitDB, btnSearch, btnRent, btnReturn, btnSelect], \n",
    "                          layout=widgets.Layout(justify_content='space-around', padding='10px'))\n",
    "\n",
    "# Create a vertical layout to display the button box and the output area\n",
    "all_layout = widgets.VBox([button_box, output])  # Arrange button box and output vertically\n",
    "\n",
    "# Display the layout with all buttons and output area\n",
    "display(all_layout)"
   ]
  },
  {
   "cell_type": "code",
   "execution_count": null,
   "id": "a6ea4410",
   "metadata": {},
   "outputs": [],
   "source": []
  }
 ],
 "metadata": {
  "kernelspec": {
   "display_name": "Python 3 (ipykernel)",
   "language": "python",
   "name": "python3"
  },
  "language_info": {
   "codemirror_mode": {
    "name": "ipython",
    "version": 3
   },
   "file_extension": ".py",
   "mimetype": "text/x-python",
   "name": "python",
   "nbconvert_exporter": "python",
   "pygments_lexer": "ipython3",
   "version": "3.11.5"
  }
 },
 "nbformat": 4,
 "nbformat_minor": 5
}
